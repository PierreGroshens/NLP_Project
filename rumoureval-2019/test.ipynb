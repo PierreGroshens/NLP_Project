{
 "cells": [
  {
   "cell_type": "code",
   "execution_count": 146,
   "source": [
    "import json\n",
    "import os\n",
    "import fnmatch\n",
    "import pandas as pd\n",
    "import re\n",
    "import numpy as np\n",
    "from nltk.corpus import stopwords\n",
    "from nltk.tokenize import word_tokenize"
   ],
   "outputs": [],
   "metadata": {}
  },
  {
   "cell_type": "code",
   "execution_count": 147,
   "source": [
    "####### example to access text of json file\n",
    "\n",
    "\n",
    "s1 = pd.Series([0,'test', 0])\n",
    "df = pd.DataFrame([list(s1)], columns=['id', 'text','label'])\n",
    "index = 0\n",
    "\n",
    "for path, dirs, files in os.walk('twitter-english/'):\n",
    "    if (path.endswith('source-tweet') or path.endswith('replies')):\n",
    "        for filename in os.listdir(path):\n",
    "            if filename.endswith('.json'):\n",
    "                with open(os.path.join(path,filename)) as jsonFile:\n",
    "                    jsonSourceTweet = json.load(jsonFile)\n",
    "\n",
    "                    text_tweet = jsonSourceTweet['text']\n",
    "                    id_tweet = int(re.sub(\"[^0-9]\", \"\", filename))\n",
    "\n",
    "                    newline = [id_tweet, text_tweet, index]\n",
    "                    df.loc[index] = newline\n",
    "\n",
    "                    index += 1\n",
    "\n",
    "\n"
   ],
   "outputs": [],
   "metadata": {}
  },
  {
   "cell_type": "code",
   "execution_count": 148,
   "source": [
    "df.head()"
   ],
   "outputs": [
    {
     "output_type": "execute_result",
     "data": {
      "text/plain": [
       "                   id                                               text  \\\n",
       "0  529661510369284096  @mikeyerxa EXCUSE ME, WHERE'S MY INVITE (to th...   \n",
       "1  529661727940431872  @halihamilton @mikeyerxa gonna try to make it ...   \n",
       "2  529661317087768576  @mikeyerxa you should send Prince a set of ten...   \n",
       "3  529666750330449920  @NobleRobel Girl, don't be mean.   Age ain't n...   \n",
       "4  529660296080916480  Prince is playing a secret show in Toronto ton...   \n",
       "\n",
       "   label  \n",
       "0      0  \n",
       "1      1  \n",
       "2      2  \n",
       "3      3  \n",
       "4      4  "
      ],
      "text/html": [
       "<div>\n",
       "<style scoped>\n",
       "    .dataframe tbody tr th:only-of-type {\n",
       "        vertical-align: middle;\n",
       "    }\n",
       "\n",
       "    .dataframe tbody tr th {\n",
       "        vertical-align: top;\n",
       "    }\n",
       "\n",
       "    .dataframe thead th {\n",
       "        text-align: right;\n",
       "    }\n",
       "</style>\n",
       "<table border=\"1\" class=\"dataframe\">\n",
       "  <thead>\n",
       "    <tr style=\"text-align: right;\">\n",
       "      <th></th>\n",
       "      <th>id</th>\n",
       "      <th>text</th>\n",
       "      <th>label</th>\n",
       "    </tr>\n",
       "  </thead>\n",
       "  <tbody>\n",
       "    <tr>\n",
       "      <th>0</th>\n",
       "      <td>529661510369284096</td>\n",
       "      <td>@mikeyerxa EXCUSE ME, WHERE'S MY INVITE (to th...</td>\n",
       "      <td>0</td>\n",
       "    </tr>\n",
       "    <tr>\n",
       "      <th>1</th>\n",
       "      <td>529661727940431872</td>\n",
       "      <td>@halihamilton @mikeyerxa gonna try to make it ...</td>\n",
       "      <td>1</td>\n",
       "    </tr>\n",
       "    <tr>\n",
       "      <th>2</th>\n",
       "      <td>529661317087768576</td>\n",
       "      <td>@mikeyerxa you should send Prince a set of ten...</td>\n",
       "      <td>2</td>\n",
       "    </tr>\n",
       "    <tr>\n",
       "      <th>3</th>\n",
       "      <td>529666750330449920</td>\n",
       "      <td>@NobleRobel Girl, don't be mean.   Age ain't n...</td>\n",
       "      <td>3</td>\n",
       "    </tr>\n",
       "    <tr>\n",
       "      <th>4</th>\n",
       "      <td>529660296080916480</td>\n",
       "      <td>Prince is playing a secret show in Toronto ton...</td>\n",
       "      <td>4</td>\n",
       "    </tr>\n",
       "  </tbody>\n",
       "</table>\n",
       "</div>"
      ]
     },
     "metadata": {},
     "execution_count": 148
    }
   ],
   "metadata": {}
  },
  {
   "cell_type": "code",
   "execution_count": 149,
   "source": [
    "df_label = pd.read_json('train-key.json')"
   ],
   "outputs": [],
   "metadata": {}
  },
  {
   "cell_type": "code",
   "execution_count": 150,
   "source": [
    "df_label.columns = ['label', 'b']\n",
    "df_label.head()"
   ],
   "outputs": [
    {
     "output_type": "execute_result",
     "data": {
      "text/plain": [
       "                      label    b\n",
       "501760642928635904  comment  NaN\n",
       "500270212198174720  comment  NaN\n",
       "524971210275565568  comment  NaN\n",
       "552836882770690049  comment  NaN\n",
       "500289931097296897  support  NaN"
      ],
      "text/html": [
       "<div>\n",
       "<style scoped>\n",
       "    .dataframe tbody tr th:only-of-type {\n",
       "        vertical-align: middle;\n",
       "    }\n",
       "\n",
       "    .dataframe tbody tr th {\n",
       "        vertical-align: top;\n",
       "    }\n",
       "\n",
       "    .dataframe thead th {\n",
       "        text-align: right;\n",
       "    }\n",
       "</style>\n",
       "<table border=\"1\" class=\"dataframe\">\n",
       "  <thead>\n",
       "    <tr style=\"text-align: right;\">\n",
       "      <th></th>\n",
       "      <th>label</th>\n",
       "      <th>b</th>\n",
       "    </tr>\n",
       "  </thead>\n",
       "  <tbody>\n",
       "    <tr>\n",
       "      <th>501760642928635904</th>\n",
       "      <td>comment</td>\n",
       "      <td>NaN</td>\n",
       "    </tr>\n",
       "    <tr>\n",
       "      <th>500270212198174720</th>\n",
       "      <td>comment</td>\n",
       "      <td>NaN</td>\n",
       "    </tr>\n",
       "    <tr>\n",
       "      <th>524971210275565568</th>\n",
       "      <td>comment</td>\n",
       "      <td>NaN</td>\n",
       "    </tr>\n",
       "    <tr>\n",
       "      <th>552836882770690049</th>\n",
       "      <td>comment</td>\n",
       "      <td>NaN</td>\n",
       "    </tr>\n",
       "    <tr>\n",
       "      <th>500289931097296897</th>\n",
       "      <td>support</td>\n",
       "      <td>NaN</td>\n",
       "    </tr>\n",
       "  </tbody>\n",
       "</table>\n",
       "</div>"
      ]
     },
     "metadata": {},
     "execution_count": 150
    }
   ],
   "metadata": {}
  },
  {
   "cell_type": "code",
   "execution_count": 151,
   "source": [
    "for i in range(len(df)):\n",
    "    try:\n",
    "        index = df.loc[i].id\n",
    "        df.loc[i, 'label'] = df_label.loc[str(index)].label\n",
    "    except KeyError:\n",
    "        df.loc[i, 'label'] = 'not_found'\n",
    "df.label.value_counts()"
   ],
   "outputs": [
    {
     "output_type": "execute_result",
     "data": {
      "text/plain": [
       "comment      2907\n",
       "not_found    1049\n",
       "support       910\n",
       "query         358\n",
       "deny          344\n",
       "Name: label, dtype: int64"
      ]
     },
     "metadata": {},
     "execution_count": 151
    }
   ],
   "metadata": {}
  },
  {
   "cell_type": "code",
   "execution_count": 152,
   "source": [
    "'''\n",
    "#save not found labels because they are the eval data\n",
    "index_to_save = df[df.label == \"not_found\"].index\n",
    "mask_save = df.index.isin(index_to_save)\n",
    "df_eval = df[mask_save]\n",
    "df_label_eval = pd.read_json('dev-key.json')\n",
    "df_label_eval.columns = ['label', 'b']\n",
    "\n",
    "\n",
    "for i in range(len(df_eval)):\n",
    "    index = df_eval.iloc[i].id\n",
    "    df_eval.loc[i, 'label'] = df_label_eval.loc[str(int(index))].label\n",
    "'''"
   ],
   "outputs": [
    {
     "output_type": "execute_result",
     "data": {
      "text/plain": [
       "'\\n#save not found labels because they are the eval data\\nindex_to_save = df[df.label == \"not_found\"].index\\nmask_save = df.index.isin(index_to_save)\\ndf_eval = df[mask_save]\\ndf_label_eval = pd.read_json(\\'dev-key.json\\')\\ndf_label_eval.columns = [\\'label\\', \\'b\\']\\n\\n\\nfor i in range(len(df_eval)):\\n    index = df_eval.iloc[i].id\\n    df_eval.loc[i, \\'label\\'] = df_label_eval.loc[str(int(index))].label\\n'"
      ]
     },
     "metadata": {},
     "execution_count": 152
    }
   ],
   "metadata": {}
  },
  {
   "cell_type": "code",
   "execution_count": 153,
   "source": [
    "\n",
    "type(df.id)"
   ],
   "outputs": [
    {
     "output_type": "execute_result",
     "data": {
      "text/plain": [
       "pandas.core.series.Series"
      ]
     },
     "metadata": {},
     "execution_count": 153
    }
   ],
   "metadata": {}
  },
  {
   "cell_type": "code",
   "execution_count": 154,
   "source": [
    "#df_eval.to_csv('eval_data.csv')"
   ],
   "outputs": [],
   "metadata": {}
  },
  {
   "cell_type": "code",
   "execution_count": 155,
   "source": [
    "\n",
    "#get rid of not found tag\n",
    "\n",
    "index_to_delete = df[df.label == \"not_found\"].index\n",
    "mask = np.logical_not(df.index.isin(index_to_delete))\n",
    "\n",
    "df_final = df[mask]\n",
    "df_final.label.value_counts()\n"
   ],
   "outputs": [
    {
     "output_type": "execute_result",
     "data": {
      "text/plain": [
       "comment    2907\n",
       "support     910\n",
       "query       358\n",
       "deny        344\n",
       "Name: label, dtype: int64"
      ]
     },
     "metadata": {},
     "execution_count": 155
    }
   ],
   "metadata": {}
  },
  {
   "cell_type": "code",
   "execution_count": 156,
   "source": [
    "def create_data(path_training, path_answer):\n",
    "    s1 = pd.Series([0,'test', 0])\n",
    "    df = pd.DataFrame([list(s1)], columns=['id', 'text','label'])\n",
    "    index = 0\n",
    "\n",
    "    for path, dirs, files in os.walk(path_training):\n",
    "        if (path.endswith('source-tweet') or path.endswith('replies')):\n",
    "            for filename in os.listdir(path):\n",
    "                if filename.endswith('.json'):\n",
    "                    with open(os.path.join(path,filename)) as jsonFile:\n",
    "                        jsonSourceTweet = json.load(jsonFile)\n",
    "\n",
    "                        text_tweet = jsonSourceTweet['text']\n",
    "                        id_tweet = int(re.sub(\"[^0-9]\", \"\", filename))\n",
    "\n",
    "                        newline = [id_tweet, text_tweet, index]\n",
    "                        df.loc[index] = newline\n",
    "\n",
    "                        index += 1\n",
    "\n",
    "    #rename column into label                    \n",
    "    df_label = pd.read_json(path_answer)\n",
    "    first_col = df_label.columns[0]\n",
    "    df_label.rename(columns={first_col:'label'}, inplace=True)\n",
    "    \n",
    "    #add labels\n",
    "    for i in range(len(df)):\n",
    "        try:\n",
    "            index = df.loc[i].id\n",
    "            df.loc[i, 'label'] = df_label.loc[str(index)].label\n",
    "        except KeyError:\n",
    "            df.loc[i, 'label'] = 'not_found'\n",
    "\n",
    "    #delete unecessary labels\n",
    "    index_to_delete = df[df.label == \"not_found\"].index\n",
    "    mask = np.logical_not(df.index.isin(index_to_delete))\n",
    "    df_final = df[mask]\n",
    "\n",
    "\n",
    "    return df_final\n",
    "\n",
    "#tes_data_csv = create_data('twitter-en-test-data', 'final-eval-key.json')\n"
   ],
   "outputs": [],
   "metadata": {}
  },
  {
   "cell_type": "code",
   "execution_count": 157,
   "source": [
    "tweets = df.text"
   ],
   "outputs": [],
   "metadata": {}
  },
  {
   "cell_type": "code",
   "execution_count": 158,
   "source": [
    "df.loc[9].text"
   ],
   "outputs": [
    {
     "output_type": "execute_result",
     "data": {
      "text/plain": [
       "\"@davidleyes @EntCity: I'm crying as well... Don't you worry!\""
      ]
     },
     "metadata": {},
     "execution_count": 158
    }
   ],
   "metadata": {}
  },
  {
   "cell_type": "code",
   "execution_count": 159,
   "source": [
    "tweets.str.contains('http') & tweets.str.contains('#')"
   ],
   "outputs": [
    {
     "output_type": "execute_result",
     "data": {
      "text/plain": [
       "0       False\n",
       "1       False\n",
       "2       False\n",
       "3       False\n",
       "4       False\n",
       "        ...  \n",
       "5563    False\n",
       "5564    False\n",
       "5565    False\n",
       "5566    False\n",
       "5567     True\n",
       "Name: text, Length: 5568, dtype: bool"
      ]
     },
     "metadata": {},
     "execution_count": 159
    }
   ],
   "metadata": {}
  },
  {
   "cell_type": "code",
   "execution_count": 160,
   "source": [
    "example_tweet = tweets.loc[5567]\n",
    "example_tweet"
   ],
   "outputs": [
    {
     "output_type": "execute_result",
     "data": {
      "text/plain": [
       "\"Was Vladimir Putin netralized by an internal coup? Or maybe he's vacationing in Harper's closet:  http://t.co/tlr3cFLEyv #LookingForNarnia\""
      ]
     },
     "metadata": {},
     "execution_count": 160
    }
   ],
   "metadata": {}
  },
  {
   "cell_type": "code",
   "execution_count": 161,
   "source": [
    "#remove links\n",
    "re.sub(r'http\\S+', '', example_tweet)          "
   ],
   "outputs": [
    {
     "output_type": "execute_result",
     "data": {
      "text/plain": [
       "\"Was Vladimir Putin netralized by an internal coup? Or maybe he's vacationing in Harper's closet:   #LookingForNarnia\""
      ]
     },
     "metadata": {},
     "execution_count": 161
    }
   ],
   "metadata": {}
  },
  {
   "cell_type": "code",
   "execution_count": 162,
   "source": [
    "\n",
    "import string\n",
    "def clean_data(text):\n",
    "    #remove links\n",
    "    text = re.sub(r'http\\S+', '', text)\n",
    "\n",
    "    #remove punct except @\n",
    "    punc_to_remove = string.punctuation\n",
    "    punc_to_remove.replace('@', '')\n",
    "    text = \"\".join([char for char in text if char not in punc_to_remove])\n",
    "          \n",
    "    #lower case\n",
    "    return text.lower()\n"
   ],
   "outputs": [],
   "metadata": {}
  },
  {
   "cell_type": "code",
   "execution_count": 163,
   "source": [
    "token_tweet = word_tokenize(example_tweet)\n",
    "token_tweet[1]"
   ],
   "outputs": [
    {
     "output_type": "execute_result",
     "data": {
      "text/plain": [
       "'Vladimir'"
      ]
     },
     "metadata": {},
     "execution_count": 163
    }
   ],
   "metadata": {}
  },
  {
   "cell_type": "code",
   "execution_count": 164,
   "source": [
    "stop_words = stopwords.words('english')\n",
    "token_tweet = word_tokenize(example_tweet)\n",
    "text = [word for word in token_tweet if word not in stop_words]\n",
    "text\n"
   ],
   "outputs": [
    {
     "output_type": "execute_result",
     "data": {
      "text/plain": [
       "['Was',\n",
       " 'Vladimir',\n",
       " 'Putin',\n",
       " 'netralized',\n",
       " 'internal',\n",
       " 'coup',\n",
       " '?',\n",
       " 'Or',\n",
       " 'maybe',\n",
       " \"'s\",\n",
       " 'vacationing',\n",
       " 'Harper',\n",
       " \"'s\",\n",
       " 'closet',\n",
       " ':',\n",
       " 'http',\n",
       " ':',\n",
       " '//t.co/tlr3cFLEyv',\n",
       " '#',\n",
       " 'LookingForNarnia']"
      ]
     },
     "metadata": {},
     "execution_count": 164
    }
   ],
   "metadata": {}
  },
  {
   "cell_type": "code",
   "execution_count": 165,
   "source": [
    "from nltk.tokenize.treebank import TreebankWordDetokenizer\n",
    "for i in range(len(df)):\n",
    "    tweet = df.loc[i].text\n",
    "    tweet_tokens = word_tokenize(tweet)\n",
    "    #without stop words\n",
    "    tweet_tokens_wst = [word for word in tweet_tokens if word not in stop_words]\n",
    "    tweet_tokens_wst = TreebankWordDetokenizer().detokenize(tweet_tokens_wst)\n",
    "    df.loc[i, 'text'] = tweet_tokens_wst\n"
   ],
   "outputs": [],
   "metadata": {}
  },
  {
   "cell_type": "code",
   "execution_count": 166,
   "source": [
    "from nltk import WordNetLemmatizer\n",
    "tweet = df.loc[460].text\n",
    "wn = WordNetLemmatizer()\n",
    "tokens = word_tokenize(tweet)\n",
    "text = [wn.lemmatize(word) for word in tokens]\n",
    "text"
   ],
   "outputs": [
    {
     "output_type": "execute_result",
     "data": {
      "text/plain": [
       "['@',\n",
       " 'DaryusAzad',\n",
       " '@',\n",
       " 'CBCAlerts',\n",
       " '@',\n",
       " 'CBCNews',\n",
       " '@',\n",
       " 'JustinTrudeau',\n",
       " ',',\n",
       " 'radical',\n",
       " 'Muslim',\n",
       " 'extremist',\n",
       " 'making',\n",
       " 'u',\n",
       " 'victim',\n",
       " '.']"
      ]
     },
     "metadata": {},
     "execution_count": 166
    }
   ],
   "metadata": {}
  },
  {
   "cell_type": "code",
   "execution_count": 167,
   "source": [
    "df.label.value_counts()"
   ],
   "outputs": [
    {
     "output_type": "execute_result",
     "data": {
      "text/plain": [
       "comment      2907\n",
       "not_found    1049\n",
       "support       910\n",
       "query         358\n",
       "deny          344\n",
       "Name: label, dtype: int64"
      ]
     },
     "metadata": {},
     "execution_count": 167
    }
   ],
   "metadata": {}
  },
  {
   "cell_type": "code",
   "execution_count": 168,
   "source": [
    "\n",
    "def fill_parent_id(structure):\n",
    "    while bool(structure) == True:\n",
    "        source_tweet = list(structure.keys())[0]\n",
    "        structure = structure.pop(source_tweet)\n",
    "        for first_child in structure:\n",
    "            \n",
    "\n",
    "            df.loc[df.id == int(first_child), \"parent_id\"] = int(source_tweet)\n",
    "\n",
    "\n",
    "            try:\n",
    "                last_child = list(structure.get(first_child))[0]\n",
    "                df.loc[df.id == int(last_child), \"parent_id\"] = int(first_child)\n",
    "            except IndexError:\n",
    "                continue\n",
    "            #print(\"last\\n\", last_child)\n",
    "            #print(\"first\\n\", first_child)\n",
    "            \n",
    "\n"
   ],
   "outputs": [],
   "metadata": {}
  },
  {
   "cell_type": "code",
   "execution_count": 169,
   "source": [
    "####### example to access text of json file\n",
    "\n",
    "\n",
    "\n",
    "for path, dirs, files in os.walk('twitter-english/'):\n",
    "\n",
    "    if path[-1].isdigit():\n",
    "        if path.endswith('580348081100734464'):\n",
    "\n",
    "            for _, _, files in os.walk(path):\n",
    "                for file in files:\n",
    "                    if file.endswith('structure.json'):\n",
    "\n",
    "\n",
    "                        with open(os.path.join(path, file)) as jsonFile:\n",
    "\n",
    "                            structure = json.load(jsonFile)\n",
    "                            #fill_parent_id(structure)\n",
    "\n",
    "\n",
    "\n",
    "def fill_parent_id_version_2(structure):\n",
    "\n",
    "        source_tweet = list(structure.keys())[0]\n",
    "        structure = structure.pop(source_tweet)\n",
    "        for first_child in structure:\n",
    "            \n",
    "            #df.loc[df.id == int(first_child), \"parent_id\"] = int(source_tweet)\n",
    "            global line\n",
    "            line = structure.get(first_child)\n",
    "\n",
    "            if (len(line) > 0):\n",
    "                print(line)\n",
    "                break\n",
    "                \n",
    "             #   break\n",
    "            #while childs have sons keep going\n",
    "#            while structure.get(first_child):\n",
    "                \n",
    " #               print(sub_structure.get(first_child))\n",
    "\n",
    "fill_parent_id_version_2(structure)"
   ],
   "outputs": [
    {
     "output_type": "stream",
     "name": "stdout",
     "text": [
      "{'580350715408859136': [], '580350976026112000': {'580351508971200512': {'580358103255879680': {'580358531850866688': []}, '580418932152102912': []}, '580353327470247936': [], '580354381578522625': [], '580355004294250496': [], '580421457974566912': {'580422091155095552': [], '580422272575533056': []}}, '580351698545319937': [], '580355513050763264': []}\n"
     ]
    }
   ],
   "metadata": {}
  },
  {
   "cell_type": "code",
   "execution_count": null,
   "source": [],
   "outputs": [],
   "metadata": {}
  },
  {
   "cell_type": "code",
   "execution_count": 170,
   "source": [
    "import json\n",
    "for path, dirs, files in os.walk('twitter-english/'):\n",
    "\n",
    "\n",
    "    if (path.endswith(\"replies\")):\n",
    "\n",
    "        for _, _, files in os.walk(path):\n",
    "            for file in files:\n",
    "\n",
    "                with open(os.path.join(path,file)) as jsonFile:\n",
    "                    data = json.load(jsonFile)\n",
    "                    parent_id = data[\"in_reply_to_status_id\"]\n",
    "                    tweet_id = re.sub('\\D*', '', file)\n",
    "\n",
    "                    df.loc[df.id == int(tweet_id), \"parent_id\"] = float(parent_id)"
   ],
   "outputs": [],
   "metadata": {}
  },
  {
   "cell_type": "code",
   "execution_count": 171,
   "source": [
    "str(test)"
   ],
   "outputs": [
    {
     "output_type": "execute_result",
     "data": {
      "text/plain": [
       "'167    @Trial_Watcher1 @CBCAlerts @CBCNews And the ne...\\nName: text, dtype: object'"
      ]
     },
     "metadata": {},
     "execution_count": 171
    }
   ],
   "metadata": {}
  },
  {
   "cell_type": "code",
   "execution_count": 184,
   "source": [
    "pd.options.display.float_format = '{:.0f}'.format\n",
    "\n",
    "for i in range(len(df)):\n",
    "\n",
    "    id_to_search = df.loc[i].parent_id\n",
    "    \n",
    "    if (np.isnan(id_to_search) == False):\n",
    "        try:\n",
    "            context = df[df.id == id_to_search].text.values[0]\n",
    "\n",
    "            end_sentence = df.loc[i].text\n",
    "            df.loc[i, 'text'] = context + ' <REPLY> ' + end_sentence\n",
    "        except IndexError:\n",
    "            print('warning')"
   ],
   "outputs": [
    {
     "output_type": "stream",
     "name": "stdout",
     "text": [
      "warning\n",
      "warning\n"
     ]
    }
   ],
   "metadata": {}
  },
  {
   "cell_type": "code",
   "execution_count": 181,
   "source": [
    "df.loc[i]"
   ],
   "outputs": [
    {
     "output_type": "execute_result",
     "data": {
      "text/plain": [
       "id                                          553495937432432640\n",
       "text         @ Mickc1303 @ JosephQuilala @ BBCBreaking @ BB...\n",
       "label                                                not_found\n",
       "parent_id                                   553490097623269376\n",
       "Name: 2048, dtype: object"
      ]
     },
     "metadata": {},
     "execution_count": 181
    }
   ],
   "metadata": {}
  },
  {
   "cell_type": "code",
   "execution_count": 185,
   "source": [
    "df"
   ],
   "outputs": [
    {
     "output_type": "execute_result",
     "data": {
      "text/plain": [
       "                      id                                               text  \\\n",
       "0     529661510369284096  Prince playing secret show Toronto tonight . I...   \n",
       "1     529661727940431872  Prince playing secret show Toronto tonight . I...   \n",
       "2     529661317087768576  Prince playing secret show Toronto tonight . I...   \n",
       "3     529666750330449920  Prince playing secret show Toronto tonight . I...   \n",
       "4     529660296080916480  Prince playing secret show Toronto tonight . I...   \n",
       "...                  ...                                                ...   \n",
       "5563  577283431089901568  Was Vladimir Putin netralized internal coup? O...   \n",
       "5564  577282462788677634  Was Vladimir Putin netralized internal coup? O...   \n",
       "5565  577284294051123201  Was Vladimir Putin netralized internal coup? O...   \n",
       "5566  577260238316830721  Was Vladimir Putin netralized internal coup? O...   \n",
       "5567  577258317942149120  Was Vladimir Putin netralized internal coup? O...   \n",
       "\n",
       "        label          parent_id  \n",
       "0     comment 529660296080916480  \n",
       "1     comment 529661510369284096  \n",
       "2     comment 529660296080916480  \n",
       "3     comment 529661317087768576  \n",
       "4     support                nan  \n",
       "...       ...                ...  \n",
       "5563  comment 577258317942149120  \n",
       "5564  comment 577258317942149120  \n",
       "5565  comment 577258317942149120  \n",
       "5566  comment 577258317942149120  \n",
       "5567  support                nan  \n",
       "\n",
       "[5568 rows x 4 columns]"
      ],
      "text/html": [
       "<div>\n",
       "<style scoped>\n",
       "    .dataframe tbody tr th:only-of-type {\n",
       "        vertical-align: middle;\n",
       "    }\n",
       "\n",
       "    .dataframe tbody tr th {\n",
       "        vertical-align: top;\n",
       "    }\n",
       "\n",
       "    .dataframe thead th {\n",
       "        text-align: right;\n",
       "    }\n",
       "</style>\n",
       "<table border=\"1\" class=\"dataframe\">\n",
       "  <thead>\n",
       "    <tr style=\"text-align: right;\">\n",
       "      <th></th>\n",
       "      <th>id</th>\n",
       "      <th>text</th>\n",
       "      <th>label</th>\n",
       "      <th>parent_id</th>\n",
       "    </tr>\n",
       "  </thead>\n",
       "  <tbody>\n",
       "    <tr>\n",
       "      <th>0</th>\n",
       "      <td>529661510369284096</td>\n",
       "      <td>Prince playing secret show Toronto tonight . I...</td>\n",
       "      <td>comment</td>\n",
       "      <td>529660296080916480</td>\n",
       "    </tr>\n",
       "    <tr>\n",
       "      <th>1</th>\n",
       "      <td>529661727940431872</td>\n",
       "      <td>Prince playing secret show Toronto tonight . I...</td>\n",
       "      <td>comment</td>\n",
       "      <td>529661510369284096</td>\n",
       "    </tr>\n",
       "    <tr>\n",
       "      <th>2</th>\n",
       "      <td>529661317087768576</td>\n",
       "      <td>Prince playing secret show Toronto tonight . I...</td>\n",
       "      <td>comment</td>\n",
       "      <td>529660296080916480</td>\n",
       "    </tr>\n",
       "    <tr>\n",
       "      <th>3</th>\n",
       "      <td>529666750330449920</td>\n",
       "      <td>Prince playing secret show Toronto tonight . I...</td>\n",
       "      <td>comment</td>\n",
       "      <td>529661317087768576</td>\n",
       "    </tr>\n",
       "    <tr>\n",
       "      <th>4</th>\n",
       "      <td>529660296080916480</td>\n",
       "      <td>Prince playing secret show Toronto tonight . I...</td>\n",
       "      <td>support</td>\n",
       "      <td>nan</td>\n",
       "    </tr>\n",
       "    <tr>\n",
       "      <th>...</th>\n",
       "      <td>...</td>\n",
       "      <td>...</td>\n",
       "      <td>...</td>\n",
       "      <td>...</td>\n",
       "    </tr>\n",
       "    <tr>\n",
       "      <th>5563</th>\n",
       "      <td>577283431089901568</td>\n",
       "      <td>Was Vladimir Putin netralized internal coup? O...</td>\n",
       "      <td>comment</td>\n",
       "      <td>577258317942149120</td>\n",
       "    </tr>\n",
       "    <tr>\n",
       "      <th>5564</th>\n",
       "      <td>577282462788677634</td>\n",
       "      <td>Was Vladimir Putin netralized internal coup? O...</td>\n",
       "      <td>comment</td>\n",
       "      <td>577258317942149120</td>\n",
       "    </tr>\n",
       "    <tr>\n",
       "      <th>5565</th>\n",
       "      <td>577284294051123201</td>\n",
       "      <td>Was Vladimir Putin netralized internal coup? O...</td>\n",
       "      <td>comment</td>\n",
       "      <td>577258317942149120</td>\n",
       "    </tr>\n",
       "    <tr>\n",
       "      <th>5566</th>\n",
       "      <td>577260238316830721</td>\n",
       "      <td>Was Vladimir Putin netralized internal coup? O...</td>\n",
       "      <td>comment</td>\n",
       "      <td>577258317942149120</td>\n",
       "    </tr>\n",
       "    <tr>\n",
       "      <th>5567</th>\n",
       "      <td>577258317942149120</td>\n",
       "      <td>Was Vladimir Putin netralized internal coup? O...</td>\n",
       "      <td>support</td>\n",
       "      <td>nan</td>\n",
       "    </tr>\n",
       "  </tbody>\n",
       "</table>\n",
       "<p>5568 rows × 4 columns</p>\n",
       "</div>"
      ]
     },
     "metadata": {},
     "execution_count": 185
    }
   ],
   "metadata": {}
  },
  {
   "cell_type": "code",
   "execution_count": 186,
   "source": [
    "df.to_csv('ordered_train_data', index =False)"
   ],
   "outputs": [],
   "metadata": {}
  },
  {
   "cell_type": "code",
   "execution_count": null,
   "source": [],
   "outputs": [],
   "metadata": {}
  }
 ],
 "metadata": {
  "interpreter": {
   "hash": "ae5169c0358a4c076d38635821193dea7b5abde5ffb302073c4d5ecd50f9d2dd"
  },
  "kernelspec": {
   "display_name": "Python 3",
   "language": "python",
   "name": "python3"
  },
  "language_info": {
   "codemirror_mode": {
    "name": "ipython",
    "version": 3
   },
   "file_extension": ".py",
   "mimetype": "text/x-python",
   "name": "python",
   "nbconvert_exporter": "python",
   "pygments_lexer": "ipython3",
   "version": "3.8.5"
  },
  "toc-autonumbering": false,
  "toc-showcode": false,
  "toc-showmarkdowntxt": false
 },
 "nbformat": 4,
 "nbformat_minor": 5
}