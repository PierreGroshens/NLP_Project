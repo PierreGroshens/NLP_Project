{
 "cells": [
  {
   "cell_type": "code",
   "execution_count": null,
   "metadata": {},
   "outputs": [],
   "source": [
    "import json\n",
    "import os\n",
    "import fnmatch\n",
    "import pandas as pd\n",
    "import re\n",
    "import numpy as np"
   ]
  },
  {
   "cell_type": "code",
   "execution_count": 2,
   "metadata": {},
   "outputs": [],
   "source": [
    "####### example to access text of json file\n",
    "\n",
    "\n",
    "s1 = pd.Series([0,'test', 0])\n",
    "df = pd.DataFrame([list(s1)], columns=['id', 'text','label'])\n",
    "index = 0\n",
    "\n",
    "for path, dirs, files in os.walk('twitter-english/'):\n",
    "    if (path.endswith('source-tweet') or path.endswith('replies')):\n",
    "        for filename in os.listdir(path):\n",
    "            if filename.endswith('.json'):\n",
    "                with open(os.path.join(path,filename)) as jsonFile:\n",
    "                    jsonSourceTweet = json.load(jsonFile)\n",
    "\n",
    "                    text_tweet = jsonSourceTweet['text']\n",
    "                    id_tweet = int(re.sub(\"[^0-9]\", \"\", filename))\n",
    "\n",
    "                    newline = [id_tweet, text_tweet, index]\n",
    "                    df.loc[index] = newline\n",
    "\n",
    "                    index += 1\n",
    "\n",
    "\n"
   ]
  },
  {
   "cell_type": "code",
   "execution_count": 3,
   "metadata": {},
   "outputs": [
    {
     "data": {
      "text/html": [
       "<div>\n",
       "<style scoped>\n",
       "    .dataframe tbody tr th:only-of-type {\n",
       "        vertical-align: middle;\n",
       "    }\n",
       "\n",
       "    .dataframe tbody tr th {\n",
       "        vertical-align: top;\n",
       "    }\n",
       "\n",
       "    .dataframe thead th {\n",
       "        text-align: right;\n",
       "    }\n",
       "</style>\n",
       "<table border=\"1\" class=\"dataframe\">\n",
       "  <thead>\n",
       "    <tr style=\"text-align: right;\">\n",
       "      <th></th>\n",
       "      <th>id</th>\n",
       "      <th>text</th>\n",
       "      <th>label</th>\n",
       "    </tr>\n",
       "  </thead>\n",
       "  <tbody>\n",
       "    <tr>\n",
       "      <th>0</th>\n",
       "      <td>529661510369284096</td>\n",
       "      <td>@mikeyerxa EXCUSE ME, WHERE'S MY INVITE (to th...</td>\n",
       "      <td>0</td>\n",
       "    </tr>\n",
       "    <tr>\n",
       "      <th>1</th>\n",
       "      <td>529661727940431872</td>\n",
       "      <td>@halihamilton @mikeyerxa gonna try to make it ...</td>\n",
       "      <td>1</td>\n",
       "    </tr>\n",
       "    <tr>\n",
       "      <th>2</th>\n",
       "      <td>529661317087768576</td>\n",
       "      <td>@mikeyerxa you should send Prince a set of ten...</td>\n",
       "      <td>2</td>\n",
       "    </tr>\n",
       "    <tr>\n",
       "      <th>3</th>\n",
       "      <td>529666750330449920</td>\n",
       "      <td>@NobleRobel Girl, don't be mean.   Age ain't n...</td>\n",
       "      <td>3</td>\n",
       "    </tr>\n",
       "    <tr>\n",
       "      <th>4</th>\n",
       "      <td>529660296080916480</td>\n",
       "      <td>Prince is playing a secret show in Toronto ton...</td>\n",
       "      <td>4</td>\n",
       "    </tr>\n",
       "  </tbody>\n",
       "</table>\n",
       "</div>"
      ],
      "text/plain": [
       "                   id                                               text  \\\n",
       "0  529661510369284096  @mikeyerxa EXCUSE ME, WHERE'S MY INVITE (to th...   \n",
       "1  529661727940431872  @halihamilton @mikeyerxa gonna try to make it ...   \n",
       "2  529661317087768576  @mikeyerxa you should send Prince a set of ten...   \n",
       "3  529666750330449920  @NobleRobel Girl, don't be mean.   Age ain't n...   \n",
       "4  529660296080916480  Prince is playing a secret show in Toronto ton...   \n",
       "\n",
       "   label  \n",
       "0      0  \n",
       "1      1  \n",
       "2      2  \n",
       "3      3  \n",
       "4      4  "
      ]
     },
     "execution_count": 3,
     "metadata": {},
     "output_type": "execute_result"
    }
   ],
   "source": [
    "df.head()"
   ]
  },
  {
   "cell_type": "code",
   "execution_count": 4,
   "metadata": {},
   "outputs": [],
   "source": [
    "df_label = pd.read_json('train-key.json')"
   ]
  },
  {
   "cell_type": "code",
   "execution_count": 5,
   "metadata": {},
   "outputs": [
    {
     "data": {
      "text/html": [
       "<div>\n",
       "<style scoped>\n",
       "    .dataframe tbody tr th:only-of-type {\n",
       "        vertical-align: middle;\n",
       "    }\n",
       "\n",
       "    .dataframe tbody tr th {\n",
       "        vertical-align: top;\n",
       "    }\n",
       "\n",
       "    .dataframe thead th {\n",
       "        text-align: right;\n",
       "    }\n",
       "</style>\n",
       "<table border=\"1\" class=\"dataframe\">\n",
       "  <thead>\n",
       "    <tr style=\"text-align: right;\">\n",
       "      <th></th>\n",
       "      <th>label</th>\n",
       "      <th>b</th>\n",
       "    </tr>\n",
       "  </thead>\n",
       "  <tbody>\n",
       "    <tr>\n",
       "      <th>501760642928635904</th>\n",
       "      <td>comment</td>\n",
       "      <td>NaN</td>\n",
       "    </tr>\n",
       "    <tr>\n",
       "      <th>500270212198174720</th>\n",
       "      <td>comment</td>\n",
       "      <td>NaN</td>\n",
       "    </tr>\n",
       "    <tr>\n",
       "      <th>524971210275565568</th>\n",
       "      <td>comment</td>\n",
       "      <td>NaN</td>\n",
       "    </tr>\n",
       "    <tr>\n",
       "      <th>552836882770690049</th>\n",
       "      <td>comment</td>\n",
       "      <td>NaN</td>\n",
       "    </tr>\n",
       "    <tr>\n",
       "      <th>500289931097296897</th>\n",
       "      <td>support</td>\n",
       "      <td>NaN</td>\n",
       "    </tr>\n",
       "    <tr>\n",
       "      <th>...</th>\n",
       "      <td>...</td>\n",
       "      <td>...</td>\n",
       "    </tr>\n",
       "    <tr>\n",
       "      <th>8gp0d7</th>\n",
       "      <td>query</td>\n",
       "      <td>true</td>\n",
       "    </tr>\n",
       "    <tr>\n",
       "      <th>8i274x</th>\n",
       "      <td>query</td>\n",
       "      <td>false</td>\n",
       "    </tr>\n",
       "    <tr>\n",
       "      <th>8n9173</th>\n",
       "      <td>query</td>\n",
       "      <td>false</td>\n",
       "    </tr>\n",
       "    <tr>\n",
       "      <th>8unvgg</th>\n",
       "      <td>query</td>\n",
       "      <td>false</td>\n",
       "    </tr>\n",
       "    <tr>\n",
       "      <th>8yktu5</th>\n",
       "      <td>deny</td>\n",
       "      <td>false</td>\n",
       "    </tr>\n",
       "  </tbody>\n",
       "</table>\n",
       "<p>5217 rows × 2 columns</p>\n",
       "</div>"
      ],
      "text/plain": [
       "                      label      b\n",
       "501760642928635904  comment    NaN\n",
       "500270212198174720  comment    NaN\n",
       "524971210275565568  comment    NaN\n",
       "552836882770690049  comment    NaN\n",
       "500289931097296897  support    NaN\n",
       "...                     ...    ...\n",
       "8gp0d7                query   true\n",
       "8i274x                query  false\n",
       "8n9173                query  false\n",
       "8unvgg                query  false\n",
       "8yktu5                 deny  false\n",
       "\n",
       "[5217 rows x 2 columns]"
      ]
     },
     "execution_count": 5,
     "metadata": {},
     "output_type": "execute_result"
    }
   ],
   "source": [
    "df_label.columns = ['label', 'b']\n",
    "df_label"
   ]
  },
  {
   "cell_type": "code",
   "execution_count": 6,
   "metadata": {},
   "outputs": [],
   "source": [
    "for i in range(len(df)):\n",
    "    try:\n",
    "        index = df.loc[i].id\n",
    "        df.loc[i, 'label'] = df_label.loc[str(index)].label\n",
    "    except KeyError:\n",
    "        df.loc[i, 'label'] = 'not_found'\n"
   ]
  },
  {
   "cell_type": "code",
   "execution_count": 7,
   "metadata": {},
   "outputs": [
    {
     "data": {
      "text/plain": [
       "comment      2907\n",
       "not_found    1049\n",
       "support       910\n",
       "query         358\n",
       "deny          344\n",
       "Name: label, dtype: int64"
      ]
     },
     "execution_count": 7,
     "metadata": {},
     "output_type": "execute_result"
    }
   ],
   "source": [
    "df.label.value_counts()"
   ]
  },
  {
   "cell_type": "code",
   "execution_count": 8,
   "metadata": {},
   "outputs": [
    {
     "data": {
      "text/plain": [
       "5"
      ]
     },
     "execution_count": 8,
     "metadata": {},
     "output_type": "execute_result"
    }
   ],
   "source": [
    "len(df.label.unique())"
   ]
  },
  {
   "cell_type": "code",
   "execution_count": 9,
   "metadata": {},
   "outputs": [
    {
     "data": {
      "text/plain": [
       "comment    2907\n",
       "support     910\n",
       "query       358\n",
       "deny        344\n",
       "Name: label, dtype: int64"
      ]
     },
     "execution_count": 9,
     "metadata": {},
     "output_type": "execute_result"
    }
   ],
   "source": [
    "\n",
    "#get rid of not found tag\n",
    "\n",
    "index_to_delete = df[df.label == \"not_found\"].index\n",
    "mask = np.logical_not(df.index.isin(index_to_delete))\n",
    "\n",
    "df_final = df[mask]\n",
    "df_final.label.value_counts()\n"
   ]
  },
  {
   "cell_type": "code",
   "execution_count": 10,
   "metadata": {},
   "outputs": [
    {
     "ename": "ModuleNotFoundError",
     "evalue": "No module named 'transformers'",
     "output_type": "error",
     "traceback": [
      "\u001b[0;31m---------------------------------------------------------------------------\u001b[0m",
      "\u001b[0;31mModuleNotFoundError\u001b[0m                       Traceback (most recent call last)",
      "\u001b[0;32m<ipython-input-10-5b241bc22f2a>\u001b[0m in \u001b[0;36m<module>\u001b[0;34m\u001b[0m\n\u001b[0;32m----> 1\u001b[0;31m \u001b[0;32mfrom\u001b[0m \u001b[0mtransformers\u001b[0m \u001b[0;32mimport\u001b[0m \u001b[0mAutoTokenizer\u001b[0m\u001b[0;34m\u001b[0m\u001b[0;34m\u001b[0m\u001b[0m\n\u001b[0m\u001b[1;32m      2\u001b[0m \u001b[0;34m\u001b[0m\u001b[0m\n\u001b[1;32m      3\u001b[0m \u001b[0mcheckpoint\u001b[0m \u001b[0;34m=\u001b[0m \u001b[0;34m\"distilbert-base-uncased-finetuned-sst-2-english\"\u001b[0m\u001b[0;34m\u001b[0m\u001b[0;34m\u001b[0m\u001b[0m\n\u001b[1;32m      4\u001b[0m \u001b[0mtokenizer\u001b[0m \u001b[0;34m=\u001b[0m \u001b[0mAutoTokenizer\u001b[0m\u001b[0;34m.\u001b[0m\u001b[0mfrom_pretrained\u001b[0m\u001b[0;34m(\u001b[0m\u001b[0mcheckpoint\u001b[0m\u001b[0;34m)\u001b[0m\u001b[0;34m\u001b[0m\u001b[0;34m\u001b[0m\u001b[0m\n\u001b[1;32m      5\u001b[0m \u001b[0;34m\u001b[0m\u001b[0m\n",
      "\u001b[0;31mModuleNotFoundError\u001b[0m: No module named 'transformers'"
     ]
    }
   ],
   "source": [
    "from transformers import AutoTokenizer\n",
    "\n",
    "checkpoint = \"distilbert-base-uncased-finetuned-sst-2-english\"\n",
    "tokenizer = AutoTokenizer.from_pretrained(checkpoint)\n",
    "\n",
    "raw_inputs = list(df.text)\n",
    "inputs = tokenizer(raw_inputs, padding=True, truncation=True, return_tensors=\"pt\")\n",
    "print(inputs)\n"
   ]
  },
  {
   "cell_type": "code",
   "execution_count": 21,
   "metadata": {},
   "outputs": [],
   "source": [
    "def create_test_data(path_training, path_answer):\n",
    "    s1 = pd.Series([0,'test', 0])\n",
    "    df = pd.DataFrame([list(s1)], columns=['id', 'text','label'])\n",
    "    index = 0\n",
    "\n",
    "    for path, dirs, files in os.walk(path_training):\n",
    "        if (path.endswith('source-tweet') or path.endswith('replies')):\n",
    "            for filename in os.listdir(path):\n",
    "                if filename.endswith('.json'):\n",
    "                    with open(os.path.join(path,filename)) as jsonFile:\n",
    "                        jsonSourceTweet = json.load(jsonFile)\n",
    "\n",
    "                        text_tweet = jsonSourceTweet['text']\n",
    "                        id_tweet = int(re.sub(\"[^0-9]\", \"\", filename))\n",
    "\n",
    "                        newline = [id_tweet, text_tweet, index]\n",
    "                        df.loc[index] = newline\n",
    "\n",
    "                        index += 1\n",
    "\n",
    "    #rename column into label                    \n",
    "    df_label = pd.read_json(path_answer)\n",
    "    first_col = df_label.columns[0]\n",
    "    df_label.rename(columns={first_col:'label'}, inplace=True)\n",
    "    \n",
    "    #add labels\n",
    "    for i in range(len(df)):\n",
    "        try:\n",
    "            index = df.loc[i].id\n",
    "            df.loc[i, 'label'] = df_label.loc[str(index)].label\n",
    "        except KeyError:\n",
    "            df.loc[i, 'label'] = 'not_found'\n",
    "\n",
    "    #delete unecessary labels\n",
    "    index_to_delete = df[df.label == \"not_found\"].index\n",
    "    mask = np.logical_not(df.index.isin(index_to_delete))\n",
    "    df_final = df[mask]\n",
    "\n",
    "\n",
    "    return df_final\n",
    "\n",
    "tes_data_csv = create_test_data('twitter-en-test-data', 'final-eval-key.json')\n"
   ]
  },
  {
   "cell_type": "code",
   "execution_count": 24,
   "metadata": {},
   "outputs": [
    {
     "data": {
      "text/plain": [
       "comment    771\n",
       "support    141\n",
       "deny        92\n",
       "query       62\n",
       "Name: label, dtype: int64"
      ]
     },
     "execution_count": 24,
     "metadata": {},
     "output_type": "execute_result"
    }
   ],
   "source": [
    "tes_data_csv.label.value_counts()"
   ]
  },
  {
   "cell_type": "code",
   "execution_count": 25,
   "metadata": {},
   "outputs": [],
   "source": []
  },
  {
   "cell_type": "code",
   "execution_count": null,
   "metadata": {},
   "outputs": [],
   "source": []
  }
 ],
 "metadata": {
  "kernelspec": {
   "display_name": "Python 3",
   "language": "python",
   "name": "python3"
  },
  "language_info": {
   "codemirror_mode": {
    "name": "ipython",
    "version": 3
   },
   "file_extension": ".py",
   "mimetype": "text/x-python",
   "name": "python",
   "nbconvert_exporter": "python",
   "pygments_lexer": "ipython3",
   "version": "3.8.5"
  },
  "toc-autonumbering": false,
  "toc-showcode": false,
  "toc-showmarkdowntxt": false
 },
 "nbformat": 4,
 "nbformat_minor": 5
}
